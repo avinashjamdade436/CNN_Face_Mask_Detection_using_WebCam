{
 "cells": [
  {
   "cell_type": "markdown",
   "metadata": {
    "id": "4AxlGsB8-TeY"
   },
   "source": [
    "## **1. Task of the project :**"
   ]
  },
  {
   "cell_type": "markdown",
   "metadata": {
    "id": "k_6tAqX5-bGF"
   },
   "source": [
    "## **2. Data :**"
   ]
  },
  {
   "cell_type": "code",
   "execution_count": 2,
   "metadata": {
    "id": "79toeCwhKLM7"
   },
   "outputs": [],
   "source": [
    "import zipfile\n",
    "from PIL import Image\n",
    "import io\n",
    "import os\n",
    "from sklearn.model_selection import train_test_split\n",
    "import shutil\n",
    "from keras.preprocessing.image import ImageDataGenerator\n",
    "\n",
    "# Path to the zip file\n",
    "zip_file_path = \"Dataset_all.zip\"\n",
    "\n",
    "# Temporary extraction folder\n",
    "extracted_folder_path = \"extracted_data\"\n",
    "\n",
    "# Create the extraction folder if it doesn't exist\n",
    "os.makedirs(extracted_folder_path, exist_ok=True)\n",
    "\n",
    "\n",
    "# 1. Ensure proper error handling during data extraction\n",
    "try:\n",
    "    with zipfile.ZipFile(zip_file_path, 'r') as zip_ref:\n",
    "        zip_ref.extractall(extracted_folder_path)\n",
    "except zipfile.BadZipFile:\n",
    "    print(\"Error: The provided zip file is invalid.\")\n",
    "except Exception as e:\n",
    "    print(f\"An error occurred during extraction: {e}\")\n",
    "    # Handle other potential exceptions as needed\n",
    "    # ...\n",
    "\n",
    "# Paths to the \"with_mask\" and \"without_mask\" folders\n",
    "with_mask_folder_path = os.path.join(extracted_folder_path, \"data\", \"with_mask\")\n",
    "without_mask_folder_path = os.path.join(extracted_folder_path, \"data\", \"without_mask\")"
   ]
  },
  {
   "cell_type": "code",
   "execution_count": 3,
   "metadata": {},
   "outputs": [],
   "source": [
    "# 2. Check Image Sizes and Handle Issues during Loading\n",
    "def load_images(folder_path):\n",
    "    images = []\n",
    "    for file in os.listdir(folder_path):\n",
    "        try:\n",
    "            image = Image.open(os.path.join(folder_path, file))\n",
    "            # Resize images to a consistent size if needed\n",
    "            # image = image.resize((desired_width, desired_height))\n",
    "            images.append(image)\n",
    "        except (IOError, OSError) as e:\n",
    "            print(f\"Error loading image {file}: {e}\")\n",
    "            # Handle other potential image loading issues\n",
    "            # ...\n",
    "\n",
    "    return images\n",
    "\n",
    "# Load images with proper error handling\n",
    "with_mask_data = load_images(with_mask_folder_path)\n",
    "without_mask_data = load_images(without_mask_folder_path)"
   ]
  },
  {
   "cell_type": "code",
   "execution_count": 4,
   "metadata": {
    "colab": {
     "base_uri": "https://localhost:8080/"
    },
    "id": "o6Cb-IMCNRbJ",
    "outputId": "071404cb-f6e4-4717-99fa-953713c4b36e"
   },
   "outputs": [
    {
     "name": "stdout",
     "output_type": "stream",
     "text": [
      "With mask data :  (3725, <class 'list'>) \n",
      "Without mask data : 3828\n"
     ]
    }
   ],
   "source": [
    "print(f\"With mask data :  {len(with_mask_data),type(with_mask_data)} \\nWithout mask data : {len(without_mask_data)}\")"
   ]
  },
  {
   "cell_type": "code",
   "execution_count": 5,
   "metadata": {
    "colab": {
     "base_uri": "https://localhost:8080/"
    },
    "id": "t5-i5F87us1H",
    "outputId": "2fc9bcd3-e7a5-4251-8b32-dccb5b19f808"
   },
   "outputs": [
    {
     "name": "stdout",
     "output_type": "stream",
     "text": [
      "Training Data Size:\n",
      " with_mask_train : 2793 \n",
      " without_mask_train : 2871\n",
      "Testing Data Size:\n",
      " with_mask_test : 932 \n",
      " without_mask_test : 957\n"
     ]
    }
   ],
   "source": [
    "# 3. Verification Data Splitting and Avoid Data Leakage\n",
    "# Ensuring that the split maintains a representative distribution of classes\n",
    "with_mask_train, with_mask_test = train_test_split(with_mask_data, test_size=0.25, random_state=42, stratify=[1]*len(with_mask_data))\n",
    "without_mask_train, without_mask_test = train_test_split(without_mask_data, test_size=0.25, random_state=42, stratify=[0]*len(without_mask_data))\n",
    "\n",
    "# Verify the size of the datasets\n",
    "print(f\"Training Data Size:\\n with_mask_train : {len(with_mask_train)} \\n without_mask_train : {len(without_mask_train)}\")\n",
    "print(f\"Testing Data Size:\\n with_mask_test : {len(with_mask_test)} \\n without_mask_test : {len(without_mask_test)}\")"
   ]
  },
  {
   "cell_type": "code",
   "execution_count": 9,
   "metadata": {},
   "outputs": [
    {
     "name": "stdout",
     "output_type": "stream",
     "text": [
      "3725 3828\n"
     ]
    }
   ],
   "source": [
    "print(2793 + 932 , 2871 + 957)"
   ]
  },
  {
   "cell_type": "code",
   "execution_count": 6,
   "metadata": {
    "id": "TNXFHyLX4K4x"
   },
   "outputs": [],
   "source": [
    "# Temporary extraction folder\n",
    "new_data_folder_path = \"new_data\"  #use \"content/new_data\" for Google colab\n",
    "os.makedirs(new_data_folder_path, exist_ok=True)\n",
    "\n",
    "# Train and Test Directories\n",
    "train_dir_path = os.path.join(new_data_folder_path, \"Train\")\n",
    "test_dir_path = os.path.join(new_data_folder_path, \"Test\")\n",
    "\n",
    "# Create Train and Test Directories if they don't exist\n",
    "os.makedirs(train_dir_path, exist_ok=True)\n",
    "os.makedirs(test_dir_path, exist_ok=True)\n",
    "\n",
    "# Paths for with_mask and without_mask folders in Train and Test\n",
    "train_with_mask_path = os.path.join(train_dir_path, \"with_mask\")\n",
    "train_without_mask_path = os.path.join(train_dir_path, \"without_mask\")\n",
    "test_with_mask_path = os.path.join(test_dir_path, \"with_mask\")\n",
    "test_without_mask_path = os.path.join(test_dir_path, \"without_mask\")\n",
    "\n",
    "# Create with_mask and without_mask directories in Train and Test if they don't exist\n",
    "os.makedirs(train_with_mask_path, exist_ok=True)\n",
    "os.makedirs(train_without_mask_path, exist_ok=True)\n",
    "os.makedirs(test_with_mask_path, exist_ok=True)\n",
    "os.makedirs(test_without_mask_path, exist_ok=True)"
   ]
  },
  {
   "cell_type": "code",
   "execution_count": 7,
   "metadata": {
    "colab": {
     "base_uri": "https://localhost:8080/"
    },
    "id": "Mj-MMNV-ubfH",
    "outputId": "28a5fcf9-b77f-4ad9-b381-699e375e75b3"
   },
   "outputs": [
    {
     "name": "stdout",
     "output_type": "stream",
     "text": [
      "Train Data Size:\n",
      " with_mask_tr : 2793 \n",
      " without_mask_tr : 2871\n",
      "Test Data Size:\n",
      " with_mask_te : 932 \n",
      " without_mask_te : 957\n"
     ]
    }
   ],
   "source": [
    "# 4. Organize Code into Functions for Better Modularity\n",
    "def organize_data(data, destination_dir):\n",
    "    os.makedirs(destination_dir, exist_ok=True)\n",
    "    for image in data:\n",
    "        destination_path = os.path.join(destination_dir, os.path.basename(image.filename))\n",
    "        shutil.copy(image.filename, destination_path)\n",
    "\n",
    "\n",
    "\n",
    "# Move the images to the corresponding subdirectories in Train Dir\n",
    "organize_data(with_mask_train, train_with_mask_path)\n",
    "organize_data(without_mask_train, train_without_mask_path)\n",
    "\n",
    "# Move the images to the corresponding subdirectories in Test Dir\n",
    "organize_data(with_mask_test, test_with_mask_path)\n",
    "organize_data(without_mask_test, test_without_mask_path)\n",
    "\n",
    "# Verify the structure has been filled\n",
    "print(f\"Train Data Size:\\n with_mask_tr : {len(os.listdir(train_with_mask_path))} \\n without_mask_tr : {len(os.listdir(train_without_mask_path))}\")\n",
    "print(f\"Test Data Size:\\n with_mask_te : {len(os.listdir(test_with_mask_path))} \\n without_mask_te : {len(os.listdir(test_without_mask_path))}\")\n",
    "\n"
   ]
  },
  {
   "cell_type": "code",
   "execution_count": 11,
   "metadata": {
    "colab": {
     "base_uri": "https://localhost:8080/"
    },
    "id": "nxAXNKtMuv5B",
    "outputId": "e8179454-ae0b-4752-a127-68aa0105b963"
   },
   "outputs": [],
   "source": [
    "# print(len(train),len(test))"
   ]
  },
  {
   "cell_type": "markdown",
   "metadata": {
    "id": "EzipZq3u-xPw"
   },
   "source": [
    "## **4. Data Preprocessing :**"
   ]
  },
  {
   "cell_type": "code",
   "execution_count": 12,
   "metadata": {
    "colab": {
     "base_uri": "https://localhost:8080/"
    },
    "id": "PvP8-31Bmmnn",
    "outputId": "70d36590-dd73-4d2c-f28e-ca14f2e9c935"
   },
   "outputs": [
    {
     "name": "stdout",
     "output_type": "stream",
     "text": [
      "Found 5664 images belonging to 2 classes.\n",
      "Found 1889 images belonging to 2 classes.\n"
     ]
    }
   ],
   "source": [
    "# Specify the paths for train and test data directories\n",
    "train_data_dir = \"new_data/Train\"\n",
    "test_data_dir = \"new_data/Test\"\n",
    "\n",
    "# Create an ImageDataGenerator for training data\n",
    "train_datagen = ImageDataGenerator(\n",
    "    rescale=1.0/255,            # Rescale pixel values to the range [0, 1]\n",
    "    rotation_range=20,          # Randomly rotate images in the range [0, rotation_range] degrees\n",
    "    width_shift_range=0.1,      # Randomly shift images horizontally by a fraction of total width\n",
    "    height_shift_range=0.1,     # Randomly shift images vertically by a fraction of total height\n",
    "    shear_range=0.1,            # Shear intensity (shear angle in the counter-clockwise direction as radians)\n",
    "    zoom_range=0.1,             # Randomly zoom into images by a fraction\n",
    "    horizontal_flip=True,       # Randomly flip images horizontally\n",
    "    fill_mode='nearest'         # Fill in newly created pixels after rotation or width/height shift\n",
    ")\n",
    "\n",
    "# Create a generator for training data\n",
    "train_generator = train_datagen.flow_from_directory(\n",
    "    train_data_dir,\n",
    "    batch_size=38,              # Number of samples in each batch\n",
    "    target_size=(150, 150),      # Resize input images to this size\n",
    "    class_mode='binary'         # Type of label to be used ('binary' for binary classification)\n",
    ")\n",
    "\n",
    "# Create an ImageDataGenerator for testing data (only rescaling)\n",
    "test_datagen = ImageDataGenerator(rescale=1.0/255)\n",
    "\n",
    "# Create a generator for testing data\n",
    "test_generator = test_datagen.flow_from_directory(\n",
    "    test_data_dir,\n",
    "    batch_size=38,\n",
    "    target_size=(150, 150),\n",
    "    class_mode='binary'\n",
    ")"
   ]
  },
  {
   "cell_type": "code",
   "execution_count": 29,
   "metadata": {},
   "outputs": [
    {
     "name": "stdout",
     "output_type": "stream",
     "text": [
      "Input Shape: (38, 150, 150, 3)\n",
      "Label Shape: (38,)\n"
     ]
    }
   ],
   "source": [
    "# Get a batch of data from the generator\n",
    "sample_batch = next(train_generator)\n",
    "\n",
    "# Print the shapes of input data and labels\n",
    "print(\"Input Shape:\", sample_batch[0].shape)\n",
    "print(\"Label Shape:\", sample_batch[1].shape)"
   ]
  },
  {
   "cell_type": "code",
   "execution_count": null,
   "metadata": {
    "colab": {
     "base_uri": "https://localhost:8080/"
    },
    "id": "FDsNO9zgO5Vj",
    "outputId": "93069c3c-6498-41cf-c8ca-d5740ef4a5ee"
   },
   "outputs": [
    {
     "name": "stdout",
     "output_type": "stream",
     "text": [
      "7450 <class 'list'>\n"
     ]
    }
   ],
   "source": [
    "# data  = with_mask_data + without_mask_data\n",
    "# print(len(data), type(data))"
   ]
  },
  {
   "cell_type": "markdown",
   "metadata": {
    "id": "hsA_QshL-g9c"
   },
   "source": [
    "## **3. Importing neccessary modules :**"
   ]
  },
  {
   "cell_type": "code",
   "execution_count": 13,
   "metadata": {
    "colab": {
     "base_uri": "https://localhost:8080/"
    },
    "id": "cI_9iqaxnGJo",
    "outputId": "5c567511-814d-4d7f-86e8-27ccc1b3261f"
   },
   "outputs": [
    {
     "name": "stdout",
     "output_type": "stream",
     "text": [
      "Requirement already satisfied: keras in c:\\users\\sandip\\anaconda3\\lib\\site-packages (2.15.0)\n"
     ]
    }
   ],
   "source": [
    "!pip install keras"
   ]
  },
  {
   "cell_type": "code",
   "execution_count": 14,
   "metadata": {},
   "outputs": [
    {
     "name": "stdout",
     "output_type": "stream",
     "text": [
      "Requirement already satisfied: tensorflow in c:\\users\\sandip\\anaconda3\\lib\\site-packages (2.15.0)\n",
      "Requirement already satisfied: tensorflow-intel==2.15.0 in c:\\users\\sandip\\anaconda3\\lib\\site-packages (from tensorflow) (2.15.0)\n",
      "Requirement already satisfied: protobuf!=4.21.0,!=4.21.1,!=4.21.2,!=4.21.3,!=4.21.4,!=4.21.5,<5.0.0dev,>=3.20.3 in c:\\users\\sandip\\anaconda3\\lib\\site-packages (from tensorflow-intel==2.15.0->tensorflow) (4.25.3)\n",
      "Requirement already satisfied: tensorflow-estimator<2.16,>=2.15.0 in c:\\users\\sandip\\anaconda3\\lib\\site-packages (from tensorflow-intel==2.15.0->tensorflow) (2.15.0)\n",
      "Requirement already satisfied: wrapt<1.15,>=1.11.0 in c:\\users\\sandip\\anaconda3\\lib\\site-packages (from tensorflow-intel==2.15.0->tensorflow) (1.14.1)\n",
      "Requirement already satisfied: opt-einsum>=2.3.2 in c:\\users\\sandip\\anaconda3\\lib\\site-packages (from tensorflow-intel==2.15.0->tensorflow) (3.3.0)\n",
      "Requirement already satisfied: keras<2.16,>=2.15.0 in c:\\users\\sandip\\anaconda3\\lib\\site-packages (from tensorflow-intel==2.15.0->tensorflow) (2.15.0)\n",
      "Requirement already satisfied: tensorboard<2.16,>=2.15 in c:\\users\\sandip\\anaconda3\\lib\\site-packages (from tensorflow-intel==2.15.0->tensorflow) (2.15.2)\n",
      "Requirement already satisfied: six>=1.12.0 in c:\\users\\sandip\\anaconda3\\lib\\site-packages (from tensorflow-intel==2.15.0->tensorflow) (1.16.0)\n",
      "Requirement already satisfied: h5py>=2.9.0 in c:\\users\\sandip\\anaconda3\\lib\\site-packages (from tensorflow-intel==2.15.0->tensorflow) (3.7.0)\n",
      "Requirement already satisfied: astunparse>=1.6.0 in c:\\users\\sandip\\anaconda3\\lib\\site-packages (from tensorflow-intel==2.15.0->tensorflow) (1.6.3)\n",
      "Requirement already satisfied: typing-extensions>=3.6.6 in c:\\users\\sandip\\anaconda3\\lib\\site-packages (from tensorflow-intel==2.15.0->tensorflow) (4.4.0)\n",
      "Requirement already satisfied: termcolor>=1.1.0 in c:\\users\\sandip\\anaconda3\\lib\\site-packages (from tensorflow-intel==2.15.0->tensorflow) (2.4.0)\n",
      "Requirement already satisfied: tensorflow-io-gcs-filesystem>=0.23.1 in c:\\users\\sandip\\anaconda3\\lib\\site-packages (from tensorflow-intel==2.15.0->tensorflow) (0.31.0)\n",
      "Requirement already satisfied: libclang>=13.0.0 in c:\\users\\sandip\\anaconda3\\lib\\site-packages (from tensorflow-intel==2.15.0->tensorflow) (16.0.6)\n",
      "Requirement already satisfied: absl-py>=1.0.0 in c:\\users\\sandip\\anaconda3\\lib\\site-packages (from tensorflow-intel==2.15.0->tensorflow) (2.1.0)\n",
      "Requirement already satisfied: numpy<2.0.0,>=1.23.5 in c:\\users\\sandip\\anaconda3\\lib\\site-packages (from tensorflow-intel==2.15.0->tensorflow) (1.23.5)\n",
      "Requirement already satisfied: gast!=0.5.0,!=0.5.1,!=0.5.2,>=0.2.1 in c:\\users\\sandip\\anaconda3\\lib\\site-packages (from tensorflow-intel==2.15.0->tensorflow) (0.5.4)\n",
      "Requirement already satisfied: packaging in c:\\users\\sandip\\anaconda3\\lib\\site-packages (from tensorflow-intel==2.15.0->tensorflow) (22.0)\n",
      "Requirement already satisfied: google-pasta>=0.1.1 in c:\\users\\sandip\\anaconda3\\lib\\site-packages (from tensorflow-intel==2.15.0->tensorflow) (0.2.0)\n",
      "Requirement already satisfied: setuptools in c:\\users\\sandip\\anaconda3\\lib\\site-packages (from tensorflow-intel==2.15.0->tensorflow) (65.6.3)\n",
      "Requirement already satisfied: flatbuffers>=23.5.26 in c:\\users\\sandip\\anaconda3\\lib\\site-packages (from tensorflow-intel==2.15.0->tensorflow) (23.5.26)\n",
      "Requirement already satisfied: ml-dtypes~=0.2.0 in c:\\users\\sandip\\anaconda3\\lib\\site-packages (from tensorflow-intel==2.15.0->tensorflow) (0.2.0)\n",
      "Requirement already satisfied: grpcio<2.0,>=1.24.3 in c:\\users\\sandip\\anaconda3\\lib\\site-packages (from tensorflow-intel==2.15.0->tensorflow) (1.60.1)\n",
      "Requirement already satisfied: wheel<1.0,>=0.23.0 in c:\\users\\sandip\\anaconda3\\lib\\site-packages (from astunparse>=1.6.0->tensorflow-intel==2.15.0->tensorflow) (0.38.4)\n",
      "Requirement already satisfied: markdown>=2.6.8 in c:\\users\\sandip\\anaconda3\\lib\\site-packages (from tensorboard<2.16,>=2.15->tensorflow-intel==2.15.0->tensorflow) (3.4.1)\n",
      "Requirement already satisfied: requests<3,>=2.21.0 in c:\\users\\sandip\\anaconda3\\lib\\site-packages (from tensorboard<2.16,>=2.15->tensorflow-intel==2.15.0->tensorflow) (2.28.1)\n",
      "Requirement already satisfied: werkzeug>=1.0.1 in c:\\users\\sandip\\anaconda3\\lib\\site-packages (from tensorboard<2.16,>=2.15->tensorflow-intel==2.15.0->tensorflow) (2.2.2)\n",
      "Requirement already satisfied: tensorboard-data-server<0.8.0,>=0.7.0 in c:\\users\\sandip\\anaconda3\\lib\\site-packages (from tensorboard<2.16,>=2.15->tensorflow-intel==2.15.0->tensorflow) (0.7.2)\n",
      "Requirement already satisfied: google-auth<3,>=1.6.3 in c:\\users\\sandip\\anaconda3\\lib\\site-packages (from tensorboard<2.16,>=2.15->tensorflow-intel==2.15.0->tensorflow) (2.28.0)\n",
      "Requirement already satisfied: google-auth-oauthlib<2,>=0.5 in c:\\users\\sandip\\anaconda3\\lib\\site-packages (from tensorboard<2.16,>=2.15->tensorflow-intel==2.15.0->tensorflow) (1.2.0)\n",
      "Requirement already satisfied: pyasn1-modules>=0.2.1 in c:\\users\\sandip\\anaconda3\\lib\\site-packages (from google-auth<3,>=1.6.3->tensorboard<2.16,>=2.15->tensorflow-intel==2.15.0->tensorflow) (0.2.8)\n",
      "Requirement already satisfied: cachetools<6.0,>=2.0.0 in c:\\users\\sandip\\anaconda3\\lib\\site-packages (from google-auth<3,>=1.6.3->tensorboard<2.16,>=2.15->tensorflow-intel==2.15.0->tensorflow) (5.3.2)\n",
      "Requirement already satisfied: rsa<5,>=3.1.4 in c:\\users\\sandip\\anaconda3\\lib\\site-packages (from google-auth<3,>=1.6.3->tensorboard<2.16,>=2.15->tensorflow-intel==2.15.0->tensorflow) (4.9)\n",
      "Requirement already satisfied: requests-oauthlib>=0.7.0 in c:\\users\\sandip\\anaconda3\\lib\\site-packages (from google-auth-oauthlib<2,>=0.5->tensorboard<2.16,>=2.15->tensorflow-intel==2.15.0->tensorflow) (1.3.1)\n",
      "Requirement already satisfied: urllib3<1.27,>=1.21.1 in c:\\users\\sandip\\anaconda3\\lib\\site-packages (from requests<3,>=2.21.0->tensorboard<2.16,>=2.15->tensorflow-intel==2.15.0->tensorflow) (1.26.14)\n",
      "Requirement already satisfied: certifi>=2017.4.17 in c:\\users\\sandip\\anaconda3\\lib\\site-packages (from requests<3,>=2.21.0->tensorboard<2.16,>=2.15->tensorflow-intel==2.15.0->tensorflow) (2022.12.7)\n",
      "Requirement already satisfied: charset-normalizer<3,>=2 in c:\\users\\sandip\\anaconda3\\lib\\site-packages (from requests<3,>=2.21.0->tensorboard<2.16,>=2.15->tensorflow-intel==2.15.0->tensorflow) (2.0.4)\n",
      "Requirement already satisfied: idna<4,>=2.5 in c:\\users\\sandip\\anaconda3\\lib\\site-packages (from requests<3,>=2.21.0->tensorboard<2.16,>=2.15->tensorflow-intel==2.15.0->tensorflow) (3.4)\n",
      "Requirement already satisfied: MarkupSafe>=2.1.1 in c:\\users\\sandip\\anaconda3\\lib\\site-packages (from werkzeug>=1.0.1->tensorboard<2.16,>=2.15->tensorflow-intel==2.15.0->tensorflow) (2.1.1)\n",
      "Requirement already satisfied: pyasn1<0.5.0,>=0.4.6 in c:\\users\\sandip\\anaconda3\\lib\\site-packages (from pyasn1-modules>=0.2.1->google-auth<3,>=1.6.3->tensorboard<2.16,>=2.15->tensorflow-intel==2.15.0->tensorflow) (0.4.8)\n",
      "Requirement already satisfied: oauthlib>=3.0.0 in c:\\users\\sandip\\anaconda3\\lib\\site-packages (from requests-oauthlib>=0.7.0->google-auth-oauthlib<2,>=0.5->tensorboard<2.16,>=2.15->tensorflow-intel==2.15.0->tensorflow) (3.2.2)\n"
     ]
    }
   ],
   "source": [
    "!pip install tensorflow"
   ]
  },
  {
   "cell_type": "code",
   "execution_count": 14,
   "metadata": {
    "id": "C4rJ_WuOPGj7"
   },
   "outputs": [],
   "source": []
  },
  {
   "cell_type": "code",
   "execution_count": 15,
   "metadata": {
    "id": "DYWk9PC7-wqB"
   },
   "outputs": [],
   "source": [
    "from keras.models import Sequential\n",
    "from keras.layers import Conv2D, MaxPooling2D, Dense, Dropout, Flatten\n",
    "from keras.optimizers import Adam\n",
    "from keras.callbacks import ModelCheckpoint, EarlyStopping"
   ]
  },
  {
   "cell_type": "markdown",
   "metadata": {
    "id": "DF46ZTWI-4ys"
   },
   "source": [
    "## **5. Creating a model :**\n",
    "\n"
   ]
  },
  {
   "cell_type": "markdown",
   "metadata": {
    "id": "eFB_ZQH1qke9"
   },
   "source": [
    "**i. ANN :**"
   ]
  },
  {
   "cell_type": "code",
   "execution_count": 18,
   "metadata": {
    "id": "ZkeZUGt9AD63"
   },
   "outputs": [],
   "source": [
    "# Creating the Sequential model\n",
    "model = Sequential([\n",
    "    # First Convolutional layer with 100 filters, a 3x3 kernel, 'relu' activation, and input shape (150, 150, 3)\n",
    "    Conv2D(100, (3, 3), activation='relu', input_shape=(150, 150, 3)),\n",
    "\n",
    "    # MaxPooling layer with a 2x2 pool size\n",
    "    MaxPooling2D(2, 2),\n",
    "\n",
    "    # Second Convolutional layer with 100 filters and a 3x3 kernel, 'relu' activation\n",
    "    Conv2D(100, (3, 3), activation='relu'),\n",
    "\n",
    "    # Another MaxPooling layer with a 2x2 pool size\n",
    "    MaxPooling2D(2, 2),\n",
    "\n",
    "    # Flatten layer to convert the 3D output to 1D before passing to the Dense layers\n",
    "    Flatten(),\n",
    "\n",
    "    # Dropout layer to help prevent overfitting by randomly setting a fraction of input units to 0 at each update during training\n",
    "    Dropout(0.5),\n",
    "\n",
    "    # Dense (fully connected) layer with 50 neurons and 'relu' activation\n",
    "    Dense(75, activation='relu'),\n",
    "\n",
    "    # Output layer with 1 neurons (binary classification) and 'sigmoid' activation\n",
    "    Dense(1, activation='sigmoid')\n",
    "])\n"
   ]
  },
  {
   "cell_type": "code",
   "execution_count": 21,
   "metadata": {},
   "outputs": [
    {
     "name": "stdout",
     "output_type": "stream",
     "text": [
      "Collecting tensorflow-addons\n",
      "  Downloading tensorflow_addons-0.22.0-cp310-cp310-win_amd64.whl (719 kB)\n",
      "     ------------------------------------ 719.8/719.8 kB 504.7 kB/s eta 0:00:00\n",
      "Requirement already satisfied: packaging in c:\\users\\sandip\\anaconda3\\lib\\site-packages (from tensorflow-addons) (22.0)\n",
      "Collecting typeguard<3.0.0,>=2.7\n",
      "  Downloading typeguard-2.13.3-py3-none-any.whl (17 kB)\n",
      "Installing collected packages: typeguard, tensorflow-addons\n",
      "Successfully installed tensorflow-addons-0.22.0 typeguard-2.13.3\n"
     ]
    }
   ],
   "source": [
    "!pip install tensorflow-addons"
   ]
  },
  {
   "cell_type": "code",
   "execution_count": null,
   "metadata": {},
   "outputs": [],
   "source": []
  },
  {
   "cell_type": "markdown",
   "metadata": {
    "id": "Eh0yTy5hAEc9"
   },
   "source": [
    "## **6. Compiling & training & saving the model :**"
   ]
  },
  {
   "cell_type": "code",
   "execution_count": 32,
   "metadata": {
    "id": "4drHGdJBsZlc"
   },
   "outputs": [],
   "source": [
    "from tensorflow.keras.metrics import Precision, Recall, AUC, Accuracy\n",
    "from tensorflow_addons.metrics import F1Score\n",
    "# Compile the model\n",
    "model.compile(\n",
    "    # Optimizer: Adam optimizer is commonly used for its adaptive learning rate capabilities\n",
    "    optimizer='adam',\n",
    "\n",
    "    # Loss function: Binary Crossentropy is suitable for binary classification tasks\n",
    "    loss='binary_crossentropy',\n",
    "\n",
    "    # Metrics to monitor during training: 'acc' represents accuracy\n",
    "    metrics=[\"acc\", Precision(), Recall(), AUC()]\n",
    ")"
   ]
  },
  {
   "cell_type": "code",
   "execution_count": 53,
   "metadata": {},
   "outputs": [],
   "source": [
    "# Set up callbacks for model saving and early stopping\n",
    "model_checkpoint = ModelCheckpoint('FaceMask_Detection104.h5', save_best_only=True, save_weights_only=False, monitor='val_loss', mode='min', verbose=1)\n",
    "early_stopping = EarlyStopping(monitor='val_loss', patience=5, mode='min', verbose=1)"
   ]
  },
  {
   "cell_type": "code",
   "execution_count": 54,
   "metadata": {
    "colab": {
     "base_uri": "https://localhost:8080/"
    },
    "id": "OOhIpoLstKH1",
    "outputId": "12349cdc-79d2-4af2-e18e-8a85d3254122",
    "scrolled": true
   },
   "outputs": [
    {
     "name": "stdout",
     "output_type": "stream",
     "text": [
      "Epoch 1/10\n",
      "103/150 [===================>..........] - ETA: 1:37 - loss: 0.2040 - acc: 0.9255 - precision_2: 0.9294 - recall_2: 0.9233 - auc_3: 0.9750"
     ]
    },
    {
     "name": "stderr",
     "output_type": "stream",
     "text": [
      "C:\\Users\\Sandip\\anaconda3\\lib\\site-packages\\PIL\\Image.py:996: UserWarning: Palette images with Transparency expressed in bytes should be converted to RGBA images\n",
      "  warnings.warn(\n"
     ]
    },
    {
     "name": "stdout",
     "output_type": "stream",
     "text": [
      "150/150 [==============================] - ETA: 0s - loss: 0.1985 - acc: 0.9271 - precision_2: 0.9297 - recall_2: 0.9262 - auc_3: 0.9759\n",
      "Epoch 1: val_loss improved from inf to 0.17453, saving model to FaceMask_Detection104.h5\n"
     ]
    },
    {
     "name": "stderr",
     "output_type": "stream",
     "text": [
      "C:\\Users\\Sandip\\anaconda3\\lib\\site-packages\\keras\\src\\engine\\training.py:3103: UserWarning: You are saving your model as an HDF5 file via `model.save()`. This file format is considered legacy. We recommend using instead the native Keras format, e.g. `model.save('my_model.keras')`.\n",
      "  saving_api.save_model(\n"
     ]
    },
    {
     "name": "stdout",
     "output_type": "stream",
     "text": [
      "150/150 [==============================] - 362s 2s/step - loss: 0.1985 - acc: 0.9271 - precision_2: 0.9297 - recall_2: 0.9262 - auc_3: 0.9759 - val_loss: 0.1745 - val_acc: 0.9317 - val_precision_2: 0.9481 - val_recall_2: 0.9154 - val_auc_3: 0.9813\n",
      "Epoch 2/10\n",
      "150/150 [==============================] - ETA: 0s - loss: 0.1914 - acc: 0.9269 - precision_2: 0.9288 - recall_2: 0.9269 - auc_3: 0.9774\n",
      "Epoch 2: val_loss did not improve from 0.17453\n",
      "150/150 [==============================] - 307s 2s/step - loss: 0.1914 - acc: 0.9269 - precision_2: 0.9288 - recall_2: 0.9269 - auc_3: 0.9774 - val_loss: 0.1965 - val_acc: 0.9190 - val_precision_2: 0.9707 - val_recall_2: 0.8662 - val_auc_3: 0.9819\n",
      "Epoch 3/10\n",
      "150/150 [==============================] - ETA: 0s - loss: 0.1996 - acc: 0.9193 - precision_2: 0.9200 - recall_2: 0.9209 - auc_3: 0.9756\n",
      "Epoch 3: val_loss improved from 0.17453 to 0.17114, saving model to FaceMask_Detection104.h5\n",
      "150/150 [==============================] - 309s 2s/step - loss: 0.1996 - acc: 0.9193 - precision_2: 0.9200 - recall_2: 0.9209 - auc_3: 0.9756 - val_loss: 0.1711 - val_acc: 0.9312 - val_precision_2: 0.9348 - val_recall_2: 0.9289 - val_auc_3: 0.9826\n",
      "Epoch 4/10\n",
      "150/150 [==============================] - ETA: 0s - loss: 0.1770 - acc: 0.9301 - precision_2: 0.9325 - recall_2: 0.9293 - auc_3: 0.9807\n",
      "Epoch 4: val_loss did not improve from 0.17114\n",
      "150/150 [==============================] - 308s 2s/step - loss: 0.1770 - acc: 0.9301 - precision_2: 0.9325 - recall_2: 0.9293 - auc_3: 0.9807 - val_loss: 0.1804 - val_acc: 0.9322 - val_precision_2: 0.9491 - val_recall_2: 0.9154 - val_auc_3: 0.9828\n",
      "Epoch 5/10\n",
      "150/150 [==============================] - ETA: 0s - loss: 0.1806 - acc: 0.9306 - precision_2: 0.9341 - recall_2: 0.9286 - auc_3: 0.9801\n",
      "Epoch 5: val_loss improved from 0.17114 to 0.14344, saving model to FaceMask_Detection104.h5\n",
      "150/150 [==============================] - 306s 2s/step - loss: 0.1806 - acc: 0.9306 - precision_2: 0.9341 - recall_2: 0.9286 - auc_3: 0.9801 - val_loss: 0.1434 - val_acc: 0.9449 - val_precision_2: 0.9466 - val_recall_2: 0.9446 - val_auc_3: 0.9873\n",
      "Epoch 6/10\n",
      "150/150 [==============================] - ETA: 0s - loss: 0.1764 - acc: 0.9310 - precision_2: 0.9321 - recall_2: 0.9317 - auc_3: 0.9806\n",
      "Epoch 6: val_loss did not improve from 0.14344\n",
      "150/150 [==============================] - 312s 2s/step - loss: 0.1764 - acc: 0.9310 - precision_2: 0.9321 - recall_2: 0.9317 - auc_3: 0.9806 - val_loss: 0.1721 - val_acc: 0.9359 - val_precision_2: 0.9761 - val_recall_2: 0.8955 - val_auc_3: 0.9864\n",
      "Epoch 7/10\n",
      "150/150 [==============================] - ETA: 0s - loss: 0.1738 - acc: 0.9320 - precision_2: 0.9334 - recall_2: 0.9324 - auc_3: 0.9812\n",
      "Epoch 7: val_loss did not improve from 0.14344\n",
      "150/150 [==============================] - 311s 2s/step - loss: 0.1738 - acc: 0.9320 - precision_2: 0.9334 - recall_2: 0.9324 - auc_3: 0.9812 - val_loss: 0.1483 - val_acc: 0.9434 - val_precision_2: 0.9502 - val_recall_2: 0.9373 - val_auc_3: 0.9874\n",
      "Epoch 8/10\n",
      "150/150 [==============================] - ETA: 0s - loss: 0.1595 - acc: 0.9401 - precision_2: 0.9408 - recall_2: 0.9411 - auc_3: 0.9840\n",
      "Epoch 8: val_loss did not improve from 0.14344\n",
      "150/150 [==============================] - 303s 2s/step - loss: 0.1595 - acc: 0.9401 - precision_2: 0.9408 - recall_2: 0.9411 - auc_3: 0.9840 - val_loss: 0.1596 - val_acc: 0.9423 - val_precision_2: 0.9722 - val_recall_2: 0.9122 - val_auc_3: 0.9862\n",
      "Epoch 9/10\n",
      "150/150 [==============================] - ETA: 0s - loss: 0.1496 - acc: 0.9442 - precision_2: 0.9465 - recall_2: 0.9432 - auc_3: 0.9858\n",
      "Epoch 9: val_loss did not improve from 0.14344\n",
      "150/150 [==============================] - 219s 1s/step - loss: 0.1496 - acc: 0.9442 - precision_2: 0.9465 - recall_2: 0.9432 - auc_3: 0.9858 - val_loss: 0.1573 - val_acc: 0.9434 - val_precision_2: 0.9733 - val_recall_2: 0.9133 - val_auc_3: 0.9875\n",
      "Epoch 10/10\n",
      "150/150 [==============================] - ETA: 0s - loss: 0.1491 - acc: 0.9462 - precision_2: 0.9477 - recall_2: 0.9460 - auc_3: 0.9860\n",
      "Epoch 10: val_loss improved from 0.14344 to 0.13680, saving model to FaceMask_Detection104.h5\n",
      "150/150 [==============================] - 235s 2s/step - loss: 0.1491 - acc: 0.9462 - precision_2: 0.9477 - recall_2: 0.9460 - auc_3: 0.9860 - val_loss: 0.1368 - val_acc: 0.9518 - val_precision_2: 0.9676 - val_recall_2: 0.9363 - val_auc_3: 0.9896\n"
     ]
    }
   ],
   "source": [
    "# Train the model\n",
    "history = model.fit(\n",
    "    # Training data generator\n",
    "    train_generator,\n",
    "\n",
    "    # Number of epochs: The number of times the model will iterate over the entire training dataset\n",
    "    epochs=10,\n",
    "\n",
    "    # Validation data generator: Used to evaluate the model's performance on a separate validation dataset\n",
    "    validation_data=test_generator,\n",
    "    \n",
    "    callbacks=[model_checkpoint, early_stopping]\n",
    ")\n"
   ]
  },
  {
   "cell_type": "code",
   "execution_count": null,
   "metadata": {},
   "outputs": [],
   "source": [
    "# # Save the model weights and architecture separately\n",
    "# model_t_101.save_weights(\"FaceMask_Detection_weights_t_104.h5\")\n",
    "# model_json = model_t_101.to_json()\n",
    "# with open(\"FaceMask_Detection_model_t_104.json\", \"w\") as json_file:\n",
    "#     json_file.write(model_json)"
   ]
  },
  {
   "cell_type": "code",
   "execution_count": 55,
   "metadata": {},
   "outputs": [
    {
     "name": "stdout",
     "output_type": "stream",
     "text": [
      "Model: \"sequential_2\"\n",
      "_________________________________________________________________\n",
      " Layer (type)                Output Shape              Param #   \n",
      "=================================================================\n",
      " conv2d_4 (Conv2D)           (None, 148, 148, 100)     2800      \n",
      "                                                                 \n",
      " max_pooling2d_4 (MaxPoolin  (None, 74, 74, 100)       0         \n",
      " g2D)                                                            \n",
      "                                                                 \n",
      " conv2d_5 (Conv2D)           (None, 72, 72, 100)       90100     \n",
      "                                                                 \n",
      " max_pooling2d_5 (MaxPoolin  (None, 36, 36, 100)       0         \n",
      " g2D)                                                            \n",
      "                                                                 \n",
      " flatten_2 (Flatten)         (None, 129600)            0         \n",
      "                                                                 \n",
      " dropout_2 (Dropout)         (None, 129600)            0         \n",
      "                                                                 \n",
      " dense_4 (Dense)             (None, 75)                9720075   \n",
      "                                                                 \n",
      " dense_5 (Dense)             (None, 1)                 76        \n",
      "                                                                 \n",
      "=================================================================\n",
      "Total params: 9813051 (37.43 MB)\n",
      "Trainable params: 9813051 (37.43 MB)\n",
      "Non-trainable params: 0 (0.00 Byte)\n",
      "_________________________________________________________________\n"
     ]
    }
   ],
   "source": [
    "model.summary()"
   ]
  },
  {
   "cell_type": "code",
   "execution_count": 61,
   "metadata": {},
   "outputs": [
    {
     "data": {
      "image/png": "[encoded data removed]",
      "text/plain": [
       "<Figure size 2200x1200 with 4 Axes>"
      ]
     },
     "metadata": {},
     "output_type": "display_data"
    }
   ],
   "source": [
    "import matplotlib.pyplot as plt\n",
    "\n",
    "# Assuming history is available\n",
    "training_loss = history.history['loss']\n",
    "validation_loss = history.history['val_loss']\n",
    "training_accuracy = history.history['acc']\n",
    "validation_accuracy = history.history['val_acc']\n",
    "precision = history.history['precision_2']\n",
    "recall = history.history['recall_2']\n",
    "auc = history.history['auc_3']\n",
    "\n",
    "# Plotting\n",
    "epochs = range(1, len(training_loss) + 1)\n",
    "\n",
    "plt.figure(figsize=(22, 12))\n",
    "\n",
    "plt.subplot(2, 3, 1)\n",
    "plt.plot(epochs, training_loss, 'bo-', label='Training Loss')\n",
    "plt.plot(epochs, validation_loss, 'ro-', label='Validation Loss')\n",
    "plt.title('Training and Validation Loss')\n",
    "plt.xlabel('Epochs')\n",
    "plt.ylabel('Loss')\n",
    "plt.legend()\n",
    "\n",
    "plt.subplot(2, 3, 2)\n",
    "plt.plot(epochs, training_accuracy, 'bo-', label='Training Accuracy')\n",
    "plt.plot(epochs, validation_accuracy, 'ro-', label='Validation Accuracy')\n",
    "plt.title('Training and Validation Accuracy')\n",
    "plt.xlabel('Epochs')\n",
    "plt.ylabel('Accuracy')\n",
    "plt.legend()\n",
    "\n",
    "plt.subplot(2, 3, 3)\n",
    "plt.plot(epochs, precision, 'bo-', label='Precision')\n",
    "plt.plot(epochs, recall, 'ro-', label='Recall')\n",
    "plt.title('Precision and Recall')\n",
    "plt.xlabel('Epochs')\n",
    "plt.ylabel('Score')\n",
    "plt.legend()\n",
    "\n",
    "plt.subplot(2, 3, 4)\n",
    "plt.plot(epochs, auc, 'bo-', label='AUC')\n",
    "plt.title('ROC-AUC')\n",
    "plt.xlabel('Epochs')\n",
    "plt.ylabel('AUC Score')\n",
    "plt.legend()\n",
    "\n",
    "plt.show()"
   ]
  },
  {
   "cell_type": "code",
   "execution_count": 62,
   "metadata": {},
   "outputs": [
    {
     "name": "stdout",
     "output_type": "stream",
     "text": [
      "50/50 [==============================] - 18s 352ms/step - loss: 0.1368 - acc: 0.9518 - precision_2: 0.9676 - recall_2: 0.9363 - auc_3: 0.9896\n",
      "Evaluation Results: [0.13679930567741394, 0.9518263339996338, 0.9676026105880737, 0.9362591505050659, 0.9895709156990051]\n",
      "Test Loss: 0.13679930567741394, Test Accuracy: 0.9518263339996338\n",
      "Precision: 0.9676026105880737, Recall: 0.9362591505050659, AUC: 0.9895709156990051\n"
     ]
    }
   ],
   "source": [
    "# Evaluate the model on the test set\n",
    "evaluation_results = model.evaluate(test_generator)\n",
    "\n",
    "# Print all evaluation metrics\n",
    "print(\"Evaluation Results:\", evaluation_results)\n",
    "\n",
    "# Extract specific metrics if needed\n",
    "test_loss = evaluation_results[0]\n",
    "test_accuracy = evaluation_results[1]\n",
    "precision = evaluation_results[2]\n",
    "recall = evaluation_results[3]\n",
    "auc = evaluation_results[4]\n",
    "\n",
    "print(f'Test Loss: {test_loss}, Test Accuracy: {test_accuracy}')\n",
    "print(f'Precision: {precision}, Recall: {recall}, AUC: {auc}')\n"
   ]
  },
  {
   "cell_type": "code",
   "execution_count": null,
   "metadata": {},
   "outputs": [],
   "source": []
  },
  {
   "cell_type": "code",
   "execution_count": 63,
   "metadata": {},
   "outputs": [
    {
     "data": {
      "image/png": "[encoded data removed]",
      "text/plain": [
       "<Figure size 1000x500 with 1 Axes>"
      ]
     },
     "metadata": {},
     "output_type": "display_data"
    }
   ],
   "source": [
    "import matplotlib.pyplot as plt\n",
    "import seaborn as sns\n",
    "\n",
    "# Set the Seaborn style\n",
    "sns.set(style=\"whitegrid\")\n",
    "# Set a custom Seaborn color palette\n",
    "custom_palette = sns.color_palette(\"husl\", as_cmap=True)\n",
    "\n",
    "# Variation 2: Red dashes for training accuracy, solid red line for validation accuracy\n",
    "plt.figure(figsize=(10, 5))\n",
    "sns.lineplot(x=epochs, y=training_accuracy, marker='o', linestyle='dashed', label='Training Accuracy', color='purple')\n",
    "sns.lineplot(x=epochs, y=validation_accuracy, marker='o', label='Validation Accuracy', color='orange')\n",
    "\n",
    "# Add labels and legend\n",
    "plt.xlabel('Epochs')\n",
    "plt.ylabel('Accuracy')\n",
    "plt.legend()\n",
    "\n",
    "# Show the plot\n",
    "plt.show()"
   ]
  },
  {
   "cell_type": "markdown",
   "metadata": {},
   "source": [
    "### Following resons for above problem of validation accuracy greater than training accuracy\n",
    "\n",
    "1. **Small Validation Set:** With a small validation set, there's a higher likelihood of the model encountering samples during validation that are similar to those seen during training, leading to higher accuracy.\n",
    "\n",
    "2. **Randomness and Variability :** The performance on a small dataset can be more subject to randomness. The validation accuracy may vary between different runs of the validation set, and sometimes the model might perform unusually well."
   ]
  },
  {
   "cell_type": "code",
   "execution_count": 64,
   "metadata": {
    "id": "oym20OcJ1c5s"
   },
   "outputs": [],
   "source": [
    "# Save the model using Keras\n",
    "model.save(\"FaceMask_Detection.h5\")"
   ]
  },
  {
   "cell_type": "code",
   "execution_count": null,
   "metadata": {},
   "outputs": [],
   "source": [
    "# from keras.models import model_from_json\n",
    "\n",
    "# # Load the model architecture from JSON file\n",
    "# with open(\"FaceMask_Detection_model_t_104.json\", \"r\") as json_file:\n",
    "#     loaded_model_json = json_file.read()\n",
    "\n",
    "# # Create the model based on the loaded architecture\n",
    "# loaded_model = model_from_json(loaded_model_json)\n",
    "\n",
    "# # Load the weights into the model\n",
    "# loaded_model.load_weights(\"FaceMask_Detection_weights_t_104.h5\")\n",
    "\n",
    "# # Compile the loaded model (you need to compile it before using)\n",
    "# loaded_model.compile(optimizer='adam', loss='binary_crossentropy', metrics=['accuracy'])\n"
   ]
  },
  {
   "cell_type": "code",
   "execution_count": 4,
   "metadata": {
    "id": "VqaRTQHa4ps2"
   },
   "outputs": [
    {
     "name": "stdout",
     "output_type": "stream",
     "text": [
      "Requirement already satisfied: keras in c:\\users\\sandip\\anaconda3\\lib\\site-packages (2.15.0)\n",
      "Requirement already satisfied: opencv-python in c:\\users\\sandip\\anaconda3\\lib\\site-packages (4.9.0.80)\n",
      "Requirement already satisfied: numpy>=1.21.2 in c:\\users\\sandip\\anaconda3\\lib\\site-packages (from opencv-python) (1.23.5)\n",
      "WARNING:tensorflow:From C:\\Users\\Sandip\\anaconda3\\lib\\site-packages\\keras\\src\\losses.py:2976: The name tf.losses.sparse_softmax_cross_entropy is deprecated. Please use tf.compat.v1.losses.sparse_softmax_cross_entropy instead.\n",
      "\n",
      "WARNING:tensorflow:From C:\\Users\\Sandip\\anaconda3\\lib\\site-packages\\keras\\src\\backend.py:1398: The name tf.executing_eagerly_outside_functions is deprecated. Please use tf.compat.v1.executing_eagerly_outside_functions instead.\n",
      "\n",
      "WARNING:tensorflow:From C:\\Users\\Sandip\\anaconda3\\lib\\site-packages\\keras\\src\\layers\\pooling\\max_pooling2d.py:161: The name tf.nn.max_pool is deprecated. Please use tf.nn.max_pool2d instead.\n",
      "\n"
     ]
    }
   ],
   "source": [
    "# Install necessary libraries\n",
    "!pip install keras opencv-python\n",
    "\n",
    "# Imports\n",
    "import cv2\n",
    "import numpy as np\n",
    "from keras.models import load_model\n",
    "\n",
    "# Load the saved model\n",
    "loaded_model = load_model(\"FaceMask_Detection104.h5\")"
   ]
  },
  {
   "cell_type": "code",
   "execution_count": null,
   "metadata": {},
   "outputs": [],
   "source": []
  },
  {
   "cell_type": "code",
   "execution_count": null,
   "metadata": {
    "id": "70ruhpiq7Leg"
   },
   "outputs": [],
   "source": [
    "# from google.colab import drive\n",
    "\n",
    "# # Mount Google Drive\n",
    "# drive.mount('/content/drive')\n",
    "\n",
    "# # Save the model to Google Drive\n",
    "# model.save(\"/content/drive/MyDrive/FaceMask_Detection.h5\")\n",
    "\n",
    "# from keras.models import load_model\n",
    "\n",
    "# # Load the model from Google Drive\n",
    "# loaded_model = load_model(\"/content/drive/MyDrive/FaceMask_Detection.h5\")"
   ]
  },
  {
   "cell_type": "code",
   "execution_count": 5,
   "metadata": {},
   "outputs": [],
   "source": [
    "import os\n",
    "import sys\n",
    "cascade_path = 'haarcascade_frontalface_default.xml'\n",
    "\n",
    "if not os.path.isfile(cascade_path):\n",
    "    print(f\"Error: Haar Cascade file not found at {cascade_path}.\")\n",
    "    sys.exit()"
   ]
  },
  {
   "cell_type": "markdown",
   "metadata": {
    "id": "_-9YPxD2AajS"
   },
   "source": [
    "## **7. WebCam :**"
   ]
  },
  {
   "cell_type": "code",
   "execution_count": 6,
   "metadata": {
    "id": "vtitqLFK-F2B"
   },
   "outputs": [],
   "source": [
    "# WebCam\n",
    "# To detect face by frontal face detection or multiface detection\n",
    "# Importing necessary modules\n",
    "import sys\n",
    "import cv2\n",
    "import numpy as np\n",
    "\n",
    "# Load the HarrCascade xml file\n",
    "classifier = cv2.CascadeClassifier('haarcascade_frontalface_default.xml')\n",
    "\n",
    "# Check if the classifier is empty\n",
    "if classifier.empty():\n",
    "    print(\"Error: Haar Cascade Classifier not loaded successfully.\")\n",
    "    sys.exit()\n",
    "\n",
    "# Output classes label (Defining Labels)\n",
    "labels_dict = {0: 'without_mask', 1: 'with_mask'}\n",
    "color_dict = {0: (0, 0, 255), 1: (0, 255, 0)}  # for red and green respectively"
   ]
  },
  {
   "cell_type": "code",
   "execution_count": 7,
   "metadata": {},
   "outputs": [
    {
     "data": {
      "text/plain": [
       "< cv2.CascadeClassifier 000001E14865ADD0>"
      ]
     },
     "execution_count": 7,
     "metadata": {},
     "output_type": "execute_result"
    }
   ],
   "source": [
    "classifier"
   ]
  },
  {
   "cell_type": "code",
   "execution_count": 12,
   "metadata": {
    "id": "VX8G42L3-Y97"
   },
   "outputs": [],
   "source": [
    "import time\n",
    "# We are creating a function\n",
    "# Detecting Mask on video or WebCam\n",
    "def detectOnVidNew():\n",
    "    # function to detect face mask within a Video or WebCam\n",
    "    video = cv2.VideoCapture(0)\n",
    "\n",
    "    if not video.isOpened():\n",
    "        print(\"Error: Could not open video capture.\")\n",
    "        sys.exit()\n",
    "    \n",
    "    # Initialize a flag to check if an image has been saved\n",
    "    image_saved = False\n",
    "    max_faces  = 0\n",
    "\n",
    "    # loop over video or cam frames\n",
    "    start_time = time.time()\n",
    "    while True:\n",
    "        # Get video frames\n",
    "        success, frame = video.read()\n",
    "\n",
    "        # if there is no frame, stop\n",
    "        if not success:\n",
    "            break\n",
    "#         print(\"Frame read successfully. Shape:\", frame.shape)\n",
    "\n",
    "        # convert frame to grayscale\n",
    "        img_gray = cv2.cvtColor(frame, cv2.COLOR_BGR2GRAY)\n",
    "\n",
    "        # Detect face within image\n",
    "        faces = classifier.detectMultiScale(img_gray, scaleFactor=1.1, minNeighbors=3)\n",
    "\n",
    "        \n",
    "        num_faces = len(faces)\n",
    "        if num_faces > max_faces:\n",
    "            max_faces = num_faces\n",
    "\n",
    "        # Loop over Faces and Draw rectangle around each face\n",
    "        for f in faces:\n",
    "            \n",
    "            # Adjust the size of the region of interest\n",
    "            margin = 20  # You can adjust this value based on your preference\n",
    "\n",
    "            (x, y, w, h) = f\n",
    "            # Expand the region of interest by adding a margin\n",
    "            x = max(0, x - margin)\n",
    "            y = max(0, y - margin)\n",
    "            w = min(frame.shape[1] - x, w + 4 * margin) #4\n",
    "            h = min(frame.shape[0] - y, h + 4 * margin) #4 for the face_detection.h5\n",
    "\n",
    "            # Extract the expanded region of interest\n",
    "            face_img = frame[y:y+h, x:x+w]\n",
    "\n",
    "            # Resize the face image\n",
    "            resized = cv2.resize(face_img, (150, 150))\n",
    "\n",
    "            # Normalize the face image\n",
    "            normalized = resized / 255.0\n",
    "\n",
    "            # Reshape Face image\n",
    "            reshaped = np.reshape(normalized, (1, 150, 150, 3))\n",
    "            reshaped = np.vstack([reshaped])\n",
    "\n",
    "            # Get the model detection results & its label\n",
    "            # we are loading the model\n",
    "            result = loaded_model.predict(reshaped)\n",
    "            print(\"Raw Prediction:\", result)\n",
    "            label = np.argmax(result, axis=1)[0]\n",
    "            \n",
    "            # Threshold Adjustment\n",
    "            threshold = 0.3326 # Adjust this value based on your observations\n",
    "            label = 1 if result > threshold else 0\n",
    "\n",
    "            # Draw Bounding box and output class\n",
    "            cv2.rectangle(frame, (x, y), (x+w, y+h), color_dict[label], 2)\n",
    "            cv2.rectangle(frame, (x, y-40), (x+w, y), color_dict[label], -1)\n",
    "            cv2.putText(frame, labels_dict[label], (x+10, y-10),\n",
    "                        cv2.FONT_HERSHEY_SIMPLEX, 0.8, (255, 255, 255))\n",
    "            print(\"Label:\", label)\n",
    "            # Save the image when a face is detected and prediction is made\n",
    "            # Check if an image has already been saved\n",
    "            if not image_saved:\n",
    "                # Save the image\n",
    "                filename = f\"detected_face_{labels_dict[label]}.png\"\n",
    "                cv2.imwrite(filename, frame)\n",
    "                # Set the flag to True after saving the image\n",
    "                image_saved = True\n",
    "\n",
    "        # Show the Image\n",
    "        cv2.imshow(\"Face Mask Detection\", frame)\n",
    "        \n",
    "        # Break the loop if the user closes the window\n",
    "        if cv2.getWindowProperty(\"Face Mask Detection\", cv2.WND_PROP_VISIBLE) < 1:\n",
    "            break\n",
    "\n",
    "        # Break the loop after 10 seconds\n",
    "        if time.time() - start_time > 20:\n",
    "            break\n",
    "\n",
    "        # Fix typo: it should be waitKey, not waitkey\n",
    "        if cv2.waitKey(5) & 0xFF == 27:\n",
    "            break\n",
    "\n",
    "    # Stop the Video or Cam\n",
    "    print(f\"Total faces detected: {max_faces}\")  # Print the number of detected faces\n",
    "    print(\"Closing video feed.\")\n",
    "    video.release()\n",
    "    cv2.destroyAllWindows()"
   ]
  },
  {
   "cell_type": "markdown",
   "metadata": {
    "id": "dJWQTEbVAhq8"
   },
   "source": [
    "## **8. Detection :**"
   ]
  },
  {
   "cell_type": "code",
   "execution_count": 13,
   "metadata": {
    "id": "YFj9M6E1F71t"
   },
   "outputs": [
    {
     "name": "stdout",
     "output_type": "stream",
     "text": [
      "1/1 [==============================] - 0s 32ms/step\n",
      "Raw Prediction: [[0.41961232]]\n",
      "Label: 1\n",
      "1/1 [==============================] - 0s 41ms/step\n",
      "Raw Prediction: [[0.2839421]]\n",
      "Label: 0\n",
      "1/1 [==============================] - 0s 32ms/step\n",
      "Raw Prediction: [[0.32216913]]\n",
      "Label: 0\n",
      "1/1 [==============================] - 0s 32ms/step\n",
      "Raw Prediction: [[0.34703997]]\n",
      "Label: 1\n",
      "1/1 [==============================] - 0s 31ms/step\n",
      "Raw Prediction: [[0.34703997]]\n",
      "Label: 1\n",
      "1/1 [==============================] - 0s 45ms/step\n",
      "Raw Prediction: [[0.32753494]]\n",
      "Label: 0\n",
      "1/1 [==============================] - 0s 29ms/step\n",
      "Raw Prediction: [[0.3541303]]\n",
      "Label: 1\n",
      "1/1 [==============================] - 0s 40ms/step\n",
      "Raw Prediction: [[0.3399142]]\n",
      "Label: 1\n",
      "1/1 [==============================] - 0s 34ms/step\n",
      "Raw Prediction: [[0.33861867]]\n",
      "Label: 1\n",
      "1/1 [==============================] - 0s 17ms/step\n",
      "Raw Prediction: [[0.32632253]]\n",
      "Label: 0\n",
      "1/1 [==============================] - 0s 37ms/step\n",
      "Raw Prediction: [[0.32973412]]\n",
      "Label: 0\n",
      "1/1 [==============================] - 0s 38ms/step\n",
      "Raw Prediction: [[0.33356792]]\n",
      "Label: 1\n",
      "1/1 [==============================] - 0s 34ms/step\n",
      "Raw Prediction: [[0.33356792]]\n",
      "Label: 1\n",
      "1/1 [==============================] - 0s 43ms/step\n",
      "Raw Prediction: [[0.31741306]]\n",
      "Label: 0\n",
      "1/1 [==============================] - 0s 34ms/step\n",
      "Raw Prediction: [[0.32074252]]\n",
      "Label: 0\n",
      "1/1 [==============================] - 0s 35ms/step\n",
      "Raw Prediction: [[0.31122163]]\n",
      "Label: 0\n",
      "1/1 [==============================] - 0s 42ms/step\n",
      "Raw Prediction: [[0.31314212]]\n",
      "Label: 0\n",
      "1/1 [==============================] - 0s 33ms/step\n",
      "Raw Prediction: [[0.3344739]]\n",
      "Label: 1\n",
      "1/1 [==============================] - 0s 43ms/step\n",
      "Raw Prediction: [[0.3344739]]\n",
      "Label: 1\n",
      "1/1 [==============================] - 0s 39ms/step\n",
      "Raw Prediction: [[0.34156835]]\n",
      "Label: 1\n",
      "1/1 [==============================] - 0s 25ms/step\n",
      "Raw Prediction: [[0.3512396]]\n",
      "Label: 1\n",
      "1/1 [==============================] - 0s 36ms/step\n",
      "Raw Prediction: [[0.34256172]]\n",
      "Label: 1\n",
      "1/1 [==============================] - 0s 40ms/step\n",
      "Raw Prediction: [[0.34374353]]\n",
      "Label: 1\n",
      "1/1 [==============================] - 0s 32ms/step\n",
      "Raw Prediction: [[0.36623302]]\n",
      "Label: 1\n",
      "1/1 [==============================] - 0s 29ms/step\n",
      "Raw Prediction: [[0.35076684]]\n",
      "Label: 1\n",
      "1/1 [==============================] - 0s 34ms/step\n",
      "Raw Prediction: [[0.37529776]]\n",
      "Label: 1\n",
      "1/1 [==============================] - 0s 33ms/step\n",
      "Raw Prediction: [[0.37281796]]\n",
      "Label: 1\n",
      "1/1 [==============================] - 0s 34ms/step\n",
      "Raw Prediction: [[0.35388538]]\n",
      "Label: 1\n",
      "1/1 [==============================] - 0s 42ms/step\n",
      "Raw Prediction: [[0.35705584]]\n",
      "Label: 1\n",
      "1/1 [==============================] - 0s 41ms/step\n",
      "Raw Prediction: [[0.35705584]]\n",
      "Label: 1\n",
      "1/1 [==============================] - 0s 28ms/step\n",
      "Raw Prediction: [[0.35647872]]\n",
      "Label: 1\n",
      "1/1 [==============================] - 0s 38ms/step\n",
      "Raw Prediction: [[0.3453849]]\n",
      "Label: 1\n",
      "1/1 [==============================] - 0s 30ms/step\n",
      "Raw Prediction: [[0.3204248]]\n",
      "Label: 0\n",
      "1/1 [==============================] - 0s 31ms/step\n",
      "Raw Prediction: [[0.32648998]]\n",
      "Label: 0\n",
      "1/1 [==============================] - 0s 31ms/step\n",
      "Raw Prediction: [[0.32070237]]\n",
      "Label: 0\n",
      "1/1 [==============================] - 0s 33ms/step\n",
      "Raw Prediction: [[0.3107223]]\n",
      "Label: 0\n",
      "1/1 [==============================] - 0s 32ms/step\n",
      "Raw Prediction: [[0.3107223]]\n",
      "Label: 0\n",
      "1/1 [==============================] - 0s 32ms/step\n",
      "Raw Prediction: [[0.32543093]]\n",
      "Label: 0\n",
      "1/1 [==============================] - 0s 31ms/step\n",
      "Raw Prediction: [[0.3323639]]\n",
      "Label: 0\n",
      "1/1 [==============================] - 0s 36ms/step\n",
      "Raw Prediction: [[0.33774593]]\n",
      "Label: 1\n",
      "1/1 [==============================] - 0s 34ms/step\n",
      "Raw Prediction: [[0.3191725]]\n",
      "Label: 0\n",
      "1/1 [==============================] - 0s 33ms/step\n",
      "Raw Prediction: [[0.32311708]]\n",
      "Label: 0\n",
      "1/1 [==============================] - 0s 17ms/step\n",
      "Raw Prediction: [[0.32283428]]\n",
      "Label: 0\n",
      "1/1 [==============================] - 0s 28ms/step\n",
      "Raw Prediction: [[0.32283428]]\n",
      "Label: 0\n",
      "1/1 [==============================] - 0s 37ms/step\n",
      "Raw Prediction: [[0.4482684]]\n",
      "Label: 1\n",
      "1/1 [==============================] - 0s 26ms/step\n",
      "Raw Prediction: [[0.68181735]]\n",
      "Label: 1\n",
      "1/1 [==============================] - 0s 16ms/step\n",
      "Raw Prediction: [[0.4963804]]\n",
      "Label: 1\n",
      "1/1 [==============================] - 0s 17ms/step\n",
      "Raw Prediction: [[0.44928634]]\n",
      "Label: 1\n",
      "1/1 [==============================] - 0s 17ms/step\n",
      "Raw Prediction: [[0.5034147]]\n",
      "Label: 1\n",
      "1/1 [==============================] - 0s 30ms/step\n",
      "Raw Prediction: [[0.5962545]]\n",
      "Label: 1\n",
      "1/1 [==============================] - 0s 37ms/step\n",
      "Raw Prediction: [[0.6363367]]\n",
      "Label: 1\n",
      "1/1 [==============================] - 0s 29ms/step\n",
      "Raw Prediction: [[0.611963]]\n",
      "Label: 1\n",
      "1/1 [==============================] - 0s 43ms/step\n",
      "Raw Prediction: [[0.62841624]]\n",
      "Label: 1\n",
      "1/1 [==============================] - 0s 37ms/step\n",
      "Raw Prediction: [[0.64197403]]\n",
      "Label: 1\n",
      "1/1 [==============================] - 0s 42ms/step\n",
      "Raw Prediction: [[0.6229073]]\n",
      "Label: 1\n",
      "1/1 [==============================] - 0s 17ms/step\n",
      "Raw Prediction: [[0.6229073]]\n",
      "Label: 1\n",
      "1/1 [==============================] - 0s 42ms/step\n",
      "Raw Prediction: [[0.657987]]\n",
      "Label: 1\n",
      "1/1 [==============================] - 0s 29ms/step\n",
      "Raw Prediction: [[0.55435133]]\n",
      "Label: 1\n",
      "1/1 [==============================] - 0s 26ms/step\n",
      "Raw Prediction: [[0.5788075]]\n",
      "Label: 1\n",
      "1/1 [==============================] - 0s 19ms/step\n",
      "Raw Prediction: [[0.6217435]]\n",
      "Label: 1\n",
      "1/1 [==============================] - 0s 16ms/step\n",
      "Raw Prediction: [[0.5144626]]\n",
      "Label: 1\n",
      "1/1 [==============================] - 0s 20ms/step\n",
      "Raw Prediction: [[0.45821303]]\n",
      "Label: 1\n",
      "1/1 [==============================] - 0s 27ms/step\n",
      "Raw Prediction: [[0.56642324]]\n",
      "Label: 1\n",
      "1/1 [==============================] - 0s 32ms/step\n",
      "Raw Prediction: [[0.47756714]]\n",
      "Label: 1\n",
      "1/1 [==============================] - 0s 24ms/step\n",
      "Raw Prediction: [[0.61490256]]\n",
      "Label: 1\n",
      "1/1 [==============================] - 0s 30ms/step\n",
      "Raw Prediction: [[0.541821]]\n",
      "Label: 1\n",
      "1/1 [==============================] - 0s 23ms/step\n",
      "Raw Prediction: [[0.6532366]]\n",
      "Label: 1\n",
      "1/1 [==============================] - 0s 17ms/step\n",
      "Raw Prediction: [[0.5802772]]\n",
      "Label: 1\n",
      "1/1 [==============================] - 0s 44ms/step\n",
      "Raw Prediction: [[0.70444447]]\n",
      "Label: 1\n",
      "1/1 [==============================] - 0s 28ms/step\n",
      "Raw Prediction: [[0.57939786]]\n",
      "Label: 1\n",
      "1/1 [==============================] - 0s 16ms/step\n",
      "Raw Prediction: [[0.57939786]]\n",
      "Label: 1\n",
      "1/1 [==============================] - 0s 34ms/step\n",
      "Raw Prediction: [[0.6056623]]\n",
      "Label: 1\n",
      "1/1 [==============================] - 0s 25ms/step\n",
      "Raw Prediction: [[0.57740486]]\n",
      "Label: 1\n",
      "1/1 [==============================] - 0s 45ms/step\n",
      "Raw Prediction: [[0.58353215]]\n",
      "Label: 1\n",
      "1/1 [==============================] - 0s 42ms/step\n",
      "Raw Prediction: [[0.50106454]]\n",
      "Label: 1\n",
      "1/1 [==============================] - 0s 42ms/step\n",
      "Raw Prediction: [[0.49987447]]\n",
      "Label: 1\n",
      "1/1 [==============================] - 0s 18ms/step\n",
      "Raw Prediction: [[0.6455787]]\n",
      "Label: 1\n",
      "1/1 [==============================] - 0s 20ms/step\n",
      "Raw Prediction: [[0.5454737]]\n",
      "Label: 1\n",
      "1/1 [==============================] - 0s 41ms/step\n",
      "Raw Prediction: [[0.30972284]]\n",
      "Label: 0\n",
      "1/1 [==============================] - 0s 29ms/step\n",
      "Raw Prediction: [[0.6612256]]\n",
      "Label: 1\n",
      "1/1 [==============================] - 0s 39ms/step\n",
      "Raw Prediction: [[0.58116955]]\n",
      "Label: 1\n",
      "1/1 [==============================] - 0s 34ms/step\n",
      "Raw Prediction: [[0.58832043]]\n",
      "Label: 1\n",
      "1/1 [==============================] - 0s 34ms/step\n",
      "Raw Prediction: [[0.59353894]]\n",
      "Label: 1\n",
      "1/1 [==============================] - 0s 27ms/step\n",
      "Raw Prediction: [[0.6322132]]\n",
      "Label: 1\n",
      "1/1 [==============================] - 0s 50ms/step\n",
      "Raw Prediction: [[0.60857403]]\n",
      "Label: 1\n",
      "1/1 [==============================] - 0s 41ms/step\n",
      "Raw Prediction: [[0.6497107]]\n",
      "Label: 1\n",
      "1/1 [==============================] - 0s 41ms/step\n",
      "Raw Prediction: [[0.6497107]]\n",
      "Label: 1\n",
      "1/1 [==============================] - 0s 33ms/step\n",
      "Raw Prediction: [[0.5769243]]\n",
      "Label: 1\n",
      "1/1 [==============================] - 0s 16ms/step\n",
      "Raw Prediction: [[0.53266394]]\n",
      "Label: 1\n",
      "1/1 [==============================] - 0s 42ms/step\n",
      "Raw Prediction: [[0.48240122]]\n",
      "Label: 1\n",
      "1/1 [==============================] - 0s 21ms/step\n",
      "Raw Prediction: [[0.57017714]]\n",
      "Label: 1\n",
      "1/1 [==============================] - 0s 37ms/step\n",
      "Raw Prediction: [[0.62070066]]\n",
      "Label: 1\n",
      "1/1 [==============================] - 0s 42ms/step\n",
      "Raw Prediction: [[0.46048406]]\n",
      "Label: 1\n",
      "1/1 [==============================] - 0s 17ms/step\n",
      "Raw Prediction: [[0.39360064]]\n",
      "Label: 1\n",
      "1/1 [==============================] - 0s 25ms/step\n",
      "Raw Prediction: [[0.36331457]]\n",
      "Label: 1\n",
      "1/1 [==============================] - 0s 36ms/step\n",
      "Raw Prediction: [[0.39706504]]\n",
      "Label: 1\n",
      "1/1 [==============================] - 0s 34ms/step\n",
      "Raw Prediction: [[0.37041512]]\n",
      "Label: 1\n",
      "1/1 [==============================] - 0s 33ms/step\n",
      "Raw Prediction: [[0.36300686]]\n",
      "Label: 1\n",
      "1/1 [==============================] - 0s 36ms/step\n",
      "Raw Prediction: [[0.35667938]]\n",
      "Label: 1\n",
      "1/1 [==============================] - 0s 19ms/step\n",
      "Raw Prediction: [[0.45126736]]\n",
      "Label: 1\n",
      "1/1 [==============================] - 0s 34ms/step\n",
      "Raw Prediction: [[0.48556784]]\n",
      "Label: 1\n",
      "1/1 [==============================] - 0s 44ms/step\n",
      "Raw Prediction: [[0.487791]]\n",
      "Label: 1\n",
      "1/1 [==============================] - 0s 25ms/step\n",
      "Raw Prediction: [[0.44130233]]\n",
      "Label: 1\n",
      "1/1 [==============================] - 0s 28ms/step\n",
      "Raw Prediction: [[0.54385823]]\n",
      "Label: 1\n",
      "1/1 [==============================] - 0s 17ms/step\n",
      "Raw Prediction: [[0.48190516]]\n",
      "Label: 1\n",
      "1/1 [==============================] - 0s 28ms/step\n",
      "Raw Prediction: [[0.505983]]\n",
      "Label: 1\n",
      "1/1 [==============================] - 0s 27ms/step\n",
      "Raw Prediction: [[0.5098294]]\n",
      "Label: 1\n",
      "1/1 [==============================] - 0s 42ms/step\n",
      "Raw Prediction: [[0.52442086]]\n",
      "Label: 1\n",
      "1/1 [==============================] - 0s 21ms/step\n",
      "Raw Prediction: [[0.18691187]]\n",
      "Label: 0\n",
      "1/1 [==============================] - 0s 23ms/step\n",
      "Raw Prediction: [[0.19170561]]\n",
      "Label: 0\n",
      "1/1 [==============================] - 0s 44ms/step\n",
      "Raw Prediction: [[0.20992646]]\n",
      "Label: 0\n",
      "1/1 [==============================] - 0s 35ms/step\n",
      "Raw Prediction: [[0.20716801]]\n",
      "Label: 0\n",
      "1/1 [==============================] - 0s 17ms/step\n",
      "Raw Prediction: [[0.22337678]]\n",
      "Label: 0\n",
      "1/1 [==============================] - 0s 44ms/step\n",
      "Raw Prediction: [[0.21690518]]\n",
      "Label: 0\n",
      "1/1 [==============================] - 0s 42ms/step\n",
      "Raw Prediction: [[0.22645333]]\n",
      "Label: 0\n",
      "1/1 [==============================] - 0s 32ms/step\n",
      "Raw Prediction: [[0.08120912]]\n",
      "Label: 0\n",
      "1/1 [==============================] - 0s 26ms/step\n",
      "Raw Prediction: [[0.03044863]]\n",
      "Label: 0\n",
      "1/1 [==============================] - 0s 34ms/step\n",
      "Raw Prediction: [[0.1726621]]\n",
      "Label: 0\n",
      "1/1 [==============================] - 0s 23ms/step\n",
      "Raw Prediction: [[0.1726621]]\n",
      "Label: 0\n",
      "1/1 [==============================] - 0s 42ms/step\n",
      "Raw Prediction: [[0.20318651]]\n",
      "Label: 0\n",
      "1/1 [==============================] - 0s 41ms/step\n",
      "Raw Prediction: [[0.3246402]]\n",
      "Label: 0\n",
      "1/1 [==============================] - 0s 35ms/step\n",
      "Raw Prediction: [[0.3248321]]\n",
      "Label: 0\n",
      "1/1 [==============================] - 0s 35ms/step\n",
      "Raw Prediction: [[0.31607765]]\n",
      "Label: 0\n",
      "1/1 [==============================] - 0s 41ms/step\n",
      "Raw Prediction: [[0.3671488]]\n",
      "Label: 1\n",
      "1/1 [==============================] - 0s 35ms/step\n",
      "Raw Prediction: [[0.3671488]]\n",
      "Label: 1\n",
      "1/1 [==============================] - 0s 36ms/step\n",
      "Raw Prediction: [[0.38163817]]\n",
      "Label: 1\n",
      "1/1 [==============================] - 0s 40ms/step\n",
      "Raw Prediction: [[0.35398763]]\n",
      "Label: 1\n",
      "1/1 [==============================] - 0s 36ms/step\n",
      "Raw Prediction: [[0.38543802]]\n",
      "Label: 1\n",
      "1/1 [==============================] - 0s 36ms/step\n",
      "Raw Prediction: [[0.39854577]]\n",
      "Label: 1\n",
      "1/1 [==============================] - 0s 33ms/step\n",
      "Raw Prediction: [[0.31571016]]\n",
      "Label: 0\n",
      "1/1 [==============================] - 0s 28ms/step\n",
      "Raw Prediction: [[0.2715399]]\n",
      "Label: 0\n",
      "1/1 [==============================] - 0s 35ms/step\n",
      "Raw Prediction: [[0.23025171]]\n",
      "Label: 0\n",
      "1/1 [==============================] - 0s 41ms/step\n",
      "Raw Prediction: [[0.20653842]]\n",
      "Label: 0\n",
      "1/1 [==============================] - 0s 16ms/step\n",
      "Raw Prediction: [[0.16937342]]\n",
      "Label: 0\n",
      "1/1 [==============================] - 0s 39ms/step\n",
      "Raw Prediction: [[0.17225046]]\n",
      "Label: 0\n",
      "1/1 [==============================] - 0s 41ms/step\n",
      "Raw Prediction: [[0.17225046]]\n",
      "Label: 0\n",
      "1/1 [==============================] - 0s 35ms/step\n",
      "Raw Prediction: [[0.15941143]]\n",
      "Label: 0\n",
      "1/1 [==============================] - 0s 35ms/step\n",
      "Raw Prediction: [[0.1370409]]\n",
      "Label: 0\n",
      "1/1 [==============================] - 0s 36ms/step\n",
      "Raw Prediction: [[0.12865534]]\n",
      "Label: 0\n",
      "1/1 [==============================] - 0s 22ms/step\n",
      "Raw Prediction: [[0.14523877]]\n",
      "Label: 0\n",
      "1/1 [==============================] - 0s 34ms/step\n",
      "Raw Prediction: [[0.18948185]]\n",
      "Label: 0\n",
      "1/1 [==============================] - 0s 41ms/step\n",
      "Raw Prediction: [[0.2036426]]\n",
      "Label: 0\n",
      "1/1 [==============================] - 0s 17ms/step\n",
      "Raw Prediction: [[0.2475067]]\n",
      "Label: 0\n",
      "1/1 [==============================] - 0s 28ms/step\n",
      "Raw Prediction: [[0.24784997]]\n",
      "Label: 0\n",
      "1/1 [==============================] - 0s 44ms/step\n",
      "Raw Prediction: [[0.24436659]]\n",
      "Label: 0\n",
      "1/1 [==============================] - 0s 29ms/step\n",
      "Raw Prediction: [[0.3530525]]\n",
      "Label: 1\n",
      "1/1 [==============================] - 0s 32ms/step\n",
      "Raw Prediction: [[0.31596228]]\n",
      "Label: 0\n",
      "1/1 [==============================] - 0s 35ms/step\n",
      "Raw Prediction: [[0.2402423]]\n",
      "Label: 0\n",
      "1/1 [==============================] - 0s 42ms/step\n",
      "Raw Prediction: [[0.25922263]]\n",
      "Label: 0\n",
      "1/1 [==============================] - 0s 35ms/step\n",
      "Raw Prediction: [[0.25388095]]\n",
      "Label: 0\n",
      "1/1 [==============================] - 0s 17ms/step\n",
      "Raw Prediction: [[0.25416863]]\n",
      "Label: 0\n",
      "1/1 [==============================] - 0s 33ms/step\n",
      "Raw Prediction: [[0.22954804]]\n",
      "Label: 0\n",
      "1/1 [==============================] - 0s 31ms/step\n",
      "Raw Prediction: [[0.26121134]]\n",
      "Label: 0\n",
      "1/1 [==============================] - 0s 41ms/step\n",
      "Raw Prediction: [[0.23055017]]\n",
      "Label: 0\n",
      "1/1 [==============================] - 0s 33ms/step\n",
      "Raw Prediction: [[0.22314157]]\n",
      "Label: 0\n",
      "1/1 [==============================] - 0s 27ms/step\n",
      "Raw Prediction: [[0.19554284]]\n",
      "Label: 0\n",
      "1/1 [==============================] - 0s 44ms/step\n",
      "Raw Prediction: [[0.18395548]]\n",
      "Label: 0\n",
      "1/1 [==============================] - 0s 33ms/step\n",
      "Raw Prediction: [[0.21150427]]\n",
      "Label: 0\n",
      "1/1 [==============================] - 0s 28ms/step\n",
      "Raw Prediction: [[0.24139939]]\n",
      "Label: 0\n",
      "1/1 [==============================] - 0s 30ms/step\n",
      "Raw Prediction: [[0.1781784]]\n",
      "Label: 0\n",
      "1/1 [==============================] - 0s 32ms/step\n",
      "Raw Prediction: [[0.21510676]]\n",
      "Label: 0\n",
      "1/1 [==============================] - 0s 17ms/step\n",
      "Raw Prediction: [[0.18987551]]\n",
      "Label: 0\n",
      "1/1 [==============================] - 0s 29ms/step\n",
      "Raw Prediction: [[0.23078209]]\n",
      "Label: 0\n",
      "1/1 [==============================] - 0s 50ms/step\n",
      "Raw Prediction: [[0.18285766]]\n",
      "Label: 0\n",
      "1/1 [==============================] - 0s 42ms/step\n",
      "Raw Prediction: [[0.20360754]]\n",
      "Label: 0\n",
      "1/1 [==============================] - 0s 32ms/step\n",
      "Raw Prediction: [[0.20360754]]\n",
      "Label: 0\n",
      "1/1 [==============================] - 0s 21ms/step\n",
      "Raw Prediction: [[0.21153691]]\n",
      "Label: 0\n",
      "1/1 [==============================] - 0s 42ms/step\n",
      "Raw Prediction: [[0.17082466]]\n",
      "Label: 0\n",
      "1/1 [==============================] - 0s 17ms/step\n",
      "Raw Prediction: [[0.25061324]]\n",
      "Label: 0\n",
      "Total faces detected: 2\n",
      "Closing video feed.\n"
     ]
    }
   ],
   "source": [
    "detectOnVidNew()"
   ]
  },
  {
   "cell_type": "code",
   "execution_count": 11,
   "metadata": {},
   "outputs": [
    {
     "data": {
      "text/plain": [
       "'for without mask:\\nMean: 0.458021717755102\\nMedian: 0.46867886\\nMode: No mode (all values are unique)'"
      ]
     },
     "execution_count": 11,
     "metadata": {},
     "output_type": "execute_result"
    }
   ],
   "source": [
    "\"\"\" for without mask:\n",
    "Mean: 0.204798\n",
    "Median: 0.1964748\n",
    "Mode: No mode (all values are unique)\n",
    "Average: 0.204798\"\"\"\n",
    "\n",
    "\n",
    "\"\"\"for without mask:\n",
    "Mean: 0.458021717755102\n",
    "Median: 0.46867886\n",
    "Mode: No mode (all values are unique)\"\"\"\n",
    "\n",
    "#he mean, average, and median for the given \"mean\" values of [0.204798, 0.458021717755102] are all approximately 0.3314,\n",
    "#while the mean, average, and median for the provided \"median\" values of [0.1964748, 0.46867886] are approximately 0.3326\n",
    "\n",
    "# take threshold value as 0.3326"
   ]
  },
  {
   "cell_type": "code",
   "execution_count": 13,
   "metadata": {},
   "outputs": [
    {
     "name": "stdout",
     "output_type": "stream",
     "text": [
      "Webcam is available.\n"
     ]
    },
    {
     "data": {
      "text/plain": [
       "True"
      ]
     },
     "execution_count": 13,
     "metadata": {},
     "output_type": "execute_result"
    }
   ],
   "source": [
    "# To check if the webcam is active or not\n",
    "import cv2\n",
    "\n",
    "# Function to check if the webcam is available\n",
    "def check_webcam():\n",
    "    # Try to access the webcam\n",
    "    cap = cv2.VideoCapture(0)\n",
    "\n",
    "    # Check if the webcam is opened successfully\n",
    "    if not cap.isOpened():\n",
    "        print(\"Error: Could not open webcam.\")\n",
    "        return False\n",
    "    else:\n",
    "        print(\"Webcam is available.\")\n",
    "        return True\n",
    "\n",
    "# Call the function to check the webcam\n",
    "check_webcam()\n"
   ]
  },
  {
   "cell_type": "code",
   "execution_count": null,
   "metadata": {},
   "outputs": [],
   "source": []
  }
 ],
 "metadata": {
  "colab": {
   "provenance": []
  },
  "kernelspec": {
   "display_name": "Python 3 (ipykernel)",
   "language": "python",
   "name": "python3"
  },
  "language_info": {
   "codemirror_mode": {
    "name": "ipython",
    "version": 3
   },
   "file_extension": ".py",
   "mimetype": "text/x-python",
   "name": "python",
   "nbconvert_exporter": "python",
   "pygments_lexer": "ipython3",
   "version": "3.10.9"
  }
 },
 "nbformat": 4,
 "nbformat_minor": 1
}
